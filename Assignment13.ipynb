{
 "cells": [
  {
   "cell_type": "code",
   "execution_count": null,
   "id": "04bdeb4a-06bc-49f0-9953-e2fc0481314f",
   "metadata": {},
   "outputs": [],
   "source": [
    "Q1. What is hierarchical clustering, and how is it different from other clustering techniques?"
   ]
  },
  {
   "cell_type": "code",
   "execution_count": null,
   "id": "55d1c1db-5d47-434c-b6e7-595da278ba63",
   "metadata": {},
   "outputs": [],
   "source": [
    "Ans = Hierarchical clustering refers to an unsupervised learning procedure that determines successive\n",
    "clusters based on previously defined clusters. \n",
    "It works via grouping data into a tree of clusters. \n",
    "Hierarchical clustering stats by treating each data points as an individual cluster."
   ]
  },
  {
   "cell_type": "code",
   "execution_count": null,
   "id": "113e3480-5cfa-4a01-bb04-b3af26f97186",
   "metadata": {},
   "outputs": [],
   "source": []
  },
  {
   "cell_type": "code",
   "execution_count": null,
   "id": "dcffdae1-0f60-4535-b95d-00d2af2f765c",
   "metadata": {},
   "outputs": [],
   "source": [
    "? Q2. What are the two main types of hierarchical clustering algorithms? Describe each in brief. \n"
   ]
  },
  {
   "cell_type": "code",
   "execution_count": null,
   "id": "bdeeaa93-a286-4788-be06-b6b7cfb91440",
   "metadata": {},
   "outputs": [],
   "source": [
    "Ans = Agglomerative: Initially, each object is considered to be its own cluster.\n",
    "According to a particular procedure, the clusters are then merged step by step until a single cluster remains. \n",
    "Divisive: The Divisive method is the opposite of the Agglomerative method."
   ]
  },
  {
   "cell_type": "code",
   "execution_count": null,
   "id": "dcde1642-b368-4aca-99f6-07004e503153",
   "metadata": {},
   "outputs": [],
   "source": []
  },
  {
   "cell_type": "code",
   "execution_count": null,
   "id": "6a075435-f915-449f-94ef-34e9dc0aec27",
   "metadata": {},
   "outputs": [],
   "source": [
    "Q3. How do you determine the distance between two clusters in hierarchical clustering, and what are the  common distance metrics used? "
   ]
  },
  {
   "cell_type": "code",
   "execution_count": null,
   "id": "9f159a2d-dbb4-4bcd-b2fd-85e9fa116ff2",
   "metadata": {},
   "outputs": [],
   "source": [
    "Ans = For most common hierarchical clustering software, the default distance measure is the Euclidean distance. \n",
    "This is the square root of the sum of the square differences.\n",
    "However, for gene expression, correlation distance is often used."
   ]
  },
  {
   "cell_type": "code",
   "execution_count": null,
   "id": "7d57b130-cecc-41f2-ab17-6626d3a618a5",
   "metadata": {},
   "outputs": [],
   "source": []
  },
  {
   "cell_type": "code",
   "execution_count": null,
   "id": "cb7076b7-6cfd-490f-943a-3a96ff16cdb6",
   "metadata": {},
   "outputs": [],
   "source": [
    "Q4. How do you determine the optimal number of clusters in hierarchical clustering, and what are some  common methods used for this purpose?"
   ]
  },
  {
   "cell_type": "code",
   "execution_count": null,
   "id": "f34e09fb-4379-4c0f-906a-cf89316db508",
   "metadata": {},
   "outputs": [],
   "source": [
    "Ans = To get the optimal number of clusters for hierarchical clustering,\n",
    "we make use a dendrogram which is tree-like chart that shows the sequences of merges or splits of clusters.\n",
    "If two clusters are merged, the dendrogram will join them in a graph and the height of the join will be the distance between those clusters."
   ]
  },
  {
   "cell_type": "code",
   "execution_count": null,
   "id": "8515d107-e8ba-4f2c-8228-8813ac68325a",
   "metadata": {},
   "outputs": [],
   "source": []
  },
  {
   "cell_type": "code",
   "execution_count": null,
   "id": "20419003-a84d-4b16-8030-151b9348d2f7",
   "metadata": {},
   "outputs": [],
   "source": [
    "Q5. What are dendrograms in hierarchical clustering, and how are they useful in analyzing the results? "
   ]
  },
  {
   "cell_type": "code",
   "execution_count": null,
   "id": "e3396575-d287-486c-abe1-a3fd38da95f5",
   "metadata": {},
   "outputs": [],
   "source": [
    "Ans = A dendrogram is a tree-like structure that explains the relationship between all the data points in the system.\n",
    "However, like a regular family tree, a dendrogram need not branch out at regular intervals from top to\n",
    "bottom as the vertical direction (y-axis) in it represents the distance between clusters in some metric."
   ]
  },
  {
   "cell_type": "code",
   "execution_count": null,
   "id": "98e44f83-ee0b-4933-8af9-10a8ff5ef776",
   "metadata": {},
   "outputs": [],
   "source": []
  },
  {
   "cell_type": "code",
   "execution_count": null,
   "id": "3fa48c9a-f71f-433a-b825-0c01e155a81f",
   "metadata": {},
   "outputs": [],
   "source": [
    "Q6. Can hierarchical clustering be used for both numerical and categorical data? If yes, \n",
    "how are the  distance metrics different for each type of data? "
   ]
  },
  {
   "cell_type": "code",
   "execution_count": null,
   "id": "30979210-02a5-47d0-9cde-2615fb0deaf2",
   "metadata": {},
   "outputs": [],
   "source": [
    "Ans = Most distance metrics, and hence the hierarchical clustering methods, \n",
    "work either with continuous-only or categorical-only data. In applications,\n",
    "however, observations are often described by a combination of both continuous and categorical variables."
   ]
  },
  {
   "cell_type": "code",
   "execution_count": null,
   "id": "63360455-5837-4059-af48-256da0997f6a",
   "metadata": {},
   "outputs": [],
   "source": []
  },
  {
   "cell_type": "code",
   "execution_count": null,
   "id": "7bba8592-beeb-41b0-9f17-51e1d0db8af5",
   "metadata": {},
   "outputs": [],
   "source": [
    "Q7. How can you use hierarchical clustering to identify outliers or anomalies in your data? "
   ]
  },
  {
   "cell_type": "code",
   "execution_count": null,
   "id": "3c7967c4-3488-4eb9-a12e-84a15cf451c5",
   "metadata": {},
   "outputs": [],
   "source": [
    "Ans = "
   ]
  }
 ],
 "metadata": {
  "kernelspec": {
   "display_name": "Python 3 (ipykernel)",
   "language": "python",
   "name": "python3"
  },
  "language_info": {
   "codemirror_mode": {
    "name": "ipython",
    "version": 3
   },
   "file_extension": ".py",
   "mimetype": "text/x-python",
   "name": "python",
   "nbconvert_exporter": "python",
   "pygments_lexer": "ipython3",
   "version": "3.10.8"
  }
 },
 "nbformat": 4,
 "nbformat_minor": 5
}
